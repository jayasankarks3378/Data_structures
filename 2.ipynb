{
 "cells": [
  {
   "cell_type": "code",
   "execution_count": 71,
   "metadata": {},
   "outputs": [],
   "source": [
    "class Node:\n",
    "\n",
    "    def __init__(self,value):\n",
    "        self.data = value\n",
    "        self.next = None\n",
    "\n",
    "class Linked_list:\n",
    "\n",
    "    def __init__(self):\n",
    "        self.head = None\n",
    "        self.n = 0\n",
    "\n",
    "    def __len__(self):\n",
    "        return self.n\n",
    "\n",
    "    def __str__(self):\n",
    "        if self.head == None :\n",
    "            return 'list is empty'\n",
    "        else :\n",
    "            curr = self.head\n",
    "            result = ''\n",
    "            while(curr != None):\n",
    "                result = result + str(curr.data) + ' --> '\n",
    "                curr = curr.next\n",
    "            return result[:-5]\n",
    "\n",
    "    def insert_head(self,value):    \n",
    "        new_node = Node(value)\n",
    "        new_node.next = self.head\n",
    "        self.head = new_node\n",
    "        self.n += 1\n",
    "\n",
    "    def insert_after(self,pos,value):\n",
    "        curr = self.head\n",
    "        while(curr != None):\n",
    "            if curr.data == pos:\n",
    "                break\n",
    "            curr = curr.next\n",
    "        if curr != None:\n",
    "            new_node = Node(value)\n",
    "            new_node.next = curr.next\n",
    "            curr.next = new_node\n",
    "            self.n += 1\n",
    "        else:\n",
    "            return 'Value Error - data not found'\n",
    "        \n",
    "    def append(self,value):\n",
    "        new_node = Node(value)\n",
    "        if self.head == None :\n",
    "            self.head = new_node\n",
    "        else:\n",
    "            curr = self.head\n",
    "            while(curr.next != None):\n",
    "                curr = curr.next\n",
    "            curr.next = new_node\n",
    "        self.n += 1\n",
    "    \n",
    "    def clear(self):\n",
    "        self.head = None\n",
    "        self.n = 0\n",
    "\n",
    "    def delete_head(self):\n",
    "        if self.head == None :\n",
    "            return 'list is empty'\n",
    "        self.head = self.head.next\n",
    "        self.n -= 1\n",
    "\n",
    "    def remove(self,value):\n",
    "        if self.head.data == value :\n",
    "            return self.delete_head()\n",
    "        curr = self.head\n",
    "        while curr.next != None:\n",
    "            if curr.next.data == value:\n",
    "                break\n",
    "            curr = curr.next\n",
    "        if curr != None :\n",
    "            curr.next = curr.next.next\n",
    "            return\n",
    "        return 'ValueError - value not found'\n",
    "\n",
    "    def pop(self):\n",
    "        if self.head == None :\n",
    "            return 'list is empty'\n",
    "        curr = self.head\n",
    "        if curr.next == None :\n",
    "            return self.delete_head()\n",
    "        while(curr.next.next != None):\n",
    "            curr = curr.next\n",
    "        curr.next = None\n",
    "        self.n -= 1\n",
    "\n",
    "    def search(self,value):\n",
    "        curr = self.head\n",
    "        pos = 0\n",
    "        while(curr != None):\n",
    "            if curr.data == value:\n",
    "                return pos \n",
    "            curr = curr.next\n",
    "            pos += 1\n",
    "        return 'ValueError - value not found'\n",
    "    \n",
    "    def __getitem__(self,index):\n",
    "        curr = self.head\n",
    "        pos = 0\n",
    "        while curr != None :\n",
    "            if pos == index :\n",
    "                return curr.data\n",
    "            curr = curr.next\n",
    "            pos += 1\n",
    "        return 'IndexError - index out of bounds'\n",
    "    \n",
    "    def __delitem__(self, index):\n",
    "        if index < 0 or index >= self.n:\n",
    "            raise IndexError('IndexError-Index out of bounds')\n",
    "        if index == 0:\n",
    "            return self.delete_head()\n",
    "        curr = self.head\n",
    "        prev = None\n",
    "        pos = 0\n",
    "        while curr and pos < index:\n",
    "            prev = curr\n",
    "            curr = curr.next\n",
    "            pos += 1\n",
    "        \n",
    "        if curr:\n",
    "            prev.next = curr.next\n",
    "            self.n -= 1\n",
    "\n"
   ]
  },
  {
   "cell_type": "code",
   "execution_count": 72,
   "metadata": {},
   "outputs": [],
   "source": [
    "L = Linked_list()"
   ]
  },
  {
   "cell_type": "code",
   "execution_count": 73,
   "metadata": {},
   "outputs": [],
   "source": [
    "L.insert_head(4)\n",
    "L.insert_head(3)\n",
    "L.insert_head(2)\n",
    "L.insert_head(1)"
   ]
  },
  {
   "cell_type": "code",
   "execution_count": 74,
   "metadata": {},
   "outputs": [
    {
     "data": {
      "text/plain": [
       "4"
      ]
     },
     "execution_count": 74,
     "metadata": {},
     "output_type": "execute_result"
    }
   ],
   "source": [
    "len(L)"
   ]
  },
  {
   "cell_type": "code",
   "execution_count": 69,
   "metadata": {},
   "outputs": [
    {
     "data": {
      "text/plain": [
       "'ValueError - value not found'"
      ]
     },
     "execution_count": 69,
     "metadata": {},
     "output_type": "execute_result"
    }
   ],
   "source": [
    "L.search(5)"
   ]
  },
  {
   "cell_type": "code",
   "execution_count": 63,
   "metadata": {},
   "outputs": [
    {
     "name": "stdout",
     "output_type": "stream",
     "text": [
      "1 --> 2 --> 3 --> 4\n"
     ]
    }
   ],
   "source": [
    "print(L)"
   ]
  },
  {
   "cell_type": "code",
   "execution_count": 75,
   "metadata": {},
   "outputs": [
    {
     "ename": "IndexError",
     "evalue": "IndexError-Index out of bounds",
     "output_type": "error",
     "traceback": [
      "\u001b[1;31m---------------------------------------------------------------------------\u001b[0m",
      "\u001b[1;31mIndexError\u001b[0m                                Traceback (most recent call last)",
      "Cell \u001b[1;32mIn[75], line 1\u001b[0m\n\u001b[1;32m----> 1\u001b[0m \u001b[38;5;28;01mdel\u001b[39;00m \u001b[43mL\u001b[49m\u001b[43m[\u001b[49m\u001b[38;5;241;43m4\u001b[39;49m\u001b[43m]\u001b[49m\n",
      "Cell \u001b[1;32mIn[71], line 114\u001b[0m, in \u001b[0;36mLinked_list.__delitem__\u001b[1;34m(self, index)\u001b[0m\n\u001b[0;32m    112\u001b[0m \u001b[38;5;28;01mdef\u001b[39;00m \u001b[38;5;21m__delitem__\u001b[39m(\u001b[38;5;28mself\u001b[39m, index):\n\u001b[0;32m    113\u001b[0m     \u001b[38;5;28;01mif\u001b[39;00m index \u001b[38;5;241m<\u001b[39m \u001b[38;5;241m0\u001b[39m \u001b[38;5;129;01mor\u001b[39;00m index \u001b[38;5;241m>\u001b[39m\u001b[38;5;241m=\u001b[39m \u001b[38;5;28mself\u001b[39m\u001b[38;5;241m.\u001b[39mn:\n\u001b[1;32m--> 114\u001b[0m         \u001b[38;5;28;01mraise\u001b[39;00m \u001b[38;5;167;01mIndexError\u001b[39;00m(\u001b[38;5;124m'\u001b[39m\u001b[38;5;124mIndexError-Index out of bounds\u001b[39m\u001b[38;5;124m'\u001b[39m)\n\u001b[0;32m    115\u001b[0m     \u001b[38;5;28;01mif\u001b[39;00m index \u001b[38;5;241m==\u001b[39m \u001b[38;5;241m0\u001b[39m:\n\u001b[0;32m    116\u001b[0m         \u001b[38;5;28;01mreturn\u001b[39;00m \u001b[38;5;28mself\u001b[39m\u001b[38;5;241m.\u001b[39mdelete_head()\n",
      "\u001b[1;31mIndexError\u001b[0m: IndexError-Index out of bounds"
     ]
    }
   ],
   "source": [
    "del L[4]"
   ]
  },
  {
   "cell_type": "code",
   "execution_count": null,
   "metadata": {},
   "outputs": [],
   "source": []
  }
 ],
 "metadata": {
  "kernelspec": {
   "display_name": "Python 3",
   "language": "python",
   "name": "python3"
  },
  "language_info": {
   "codemirror_mode": {
    "name": "ipython",
    "version": 3
   },
   "file_extension": ".py",
   "mimetype": "text/x-python",
   "name": "python",
   "nbconvert_exporter": "python",
   "pygments_lexer": "ipython3",
   "version": "3.12.5"
  }
 },
 "nbformat": 4,
 "nbformat_minor": 2
}
